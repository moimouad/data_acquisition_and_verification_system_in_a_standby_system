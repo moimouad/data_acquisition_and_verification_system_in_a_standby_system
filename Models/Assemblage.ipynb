{
  "nbformat": 4,
  "nbformat_minor": 0,
  "metadata": {
    "colab": {
      "name": "Assemblage.ipynb",
      "provenance": [],
      "collapsed_sections": []
    },
    "kernelspec": {
      "name": "python3",
      "display_name": "Python 3"
    }
  },
  "cells": [
    {
      "cell_type": "code",
      "metadata": {
        "id": "XZ7fLY0PrwEn",
        "colab_type": "code",
        "outputId": "7f2ea16a-3042-4982-8ed9-3f29374b1acb",
        "colab": {
          "base_uri": "https://localhost:8080/",
          "height": 34
        }
      },
      "source": [
        "from google.colab import drive\n",
        "drive.mount('/content/drive')"
      ],
      "execution_count": 0,
      "outputs": [
        {
          "output_type": "stream",
          "text": [
            "Drive already mounted at /content/drive; to attempt to forcibly remount, call drive.mount(\"/content/drive\", force_remount=True).\n"
          ],
          "name": "stdout"
        }
      ]
    },
    {
      "cell_type": "code",
      "metadata": {
        "id": "hLh4rBTQsGfK",
        "colab_type": "code",
        "colab": {}
      },
      "source": [
        "import pickle\n",
        "import re\n",
        "from textblob import Word\n",
        "import nltk\n",
        "nltk.download('wordnet')"
      ],
      "execution_count": 0,
      "outputs": []
    },
    {
      "cell_type": "code",
      "metadata": {
        "id": "9TwK6qC6tMMk",
        "colab_type": "code",
        "colab": {}
      },
      "source": [
        "real = 'JAKARTA (Reuters) - Indonesian police shot dead two men suspected of burning down a police station complex in a jihadist-inspired attack after they fired at them with bows and arrows, officials said on Monday. All the main buildings at the police headquarters in Dharmasraya regency in West Sumatra were burned to the ground in Sunday s attack. There were no casualties.   We are investigating links between the fire and the two terrorists who were killed,  said national police spokesman Rikwanto, adding that a jihadist message was found scrawled on a piece of paper on one of the suspects.     He added that firefighters had found two suspects near the complex and reported them to police. The suspects tried to shoot at police with bows and arrows and were shot dead. Police and police buildings have been the primary targets for militants in Indonesia for many years, because of a sustained crackdown by the anti-terrorism force on home-grown radicals. Detachment 88 - known locally as  Densus 88  - has managed to stamp out or weaken many radical Islamist networks. But the world s largest Muslim-majority nation has seen a recent resurgence in radicalism, inspired largely by Islamic State. A series of small-scale attacks since early 2016 have been linked to Islamic State, which is believed to have thousands of sympathizers in Indonesia.  '\n",
        "fake = 'Sen. Bob Corker (R-TN) is being defended by one of his Republican colleagues following Donald Trump s attacks on the Tennessee Republican. Rep. Charlie Dent (R-PA) said that Republicans in the Senate and House are frustrated with Trump and added Monday on MSNBC,  We have these conversations all the time. We ve had a lot of these  the emperor has no clothes  moments and I m glad that Sen. Corker has brought voice to this,  Dent said.  We are concerned. My colleagues, my Republican colleagues in the House, I know, and Senate, are concerned by much of the dysfunction and disorder and chaos at the White House. Dent noted that since John Kelly became chief of staff that tensions have eased  a bit  but added that the constant  insults  and  sideshows  distract Congress from focusing on policy. We have these conversations all the time and we have to do better and I think more of my colleagues should speak up,  he said.  They say things privately, they don t say publicly. I said it publicly before I announced I wasn t running. Corker, who is leaving office, called the White House an  adult day care center  and said that Donald Trump is putting the U.S. on the  path to World War III. When you re the President of the United States, your words are policy. People take those words very seriously, and I don t think the President has learned that yet,  Dent said, according to Talking Points Memo.  The President, I believe, has to be much more measured in his rhetoric, but good luck with that. Watch:Sens. Jeff Flake and John McCain have also been critical of Trump s chaotic administration. In return, Trump fires back at them, typically on his Twitter account. There s a price to pay if a politician dares to criticize the thin-skinned president who is putting us on the path to World War III. For example, just this morning, Trump lashed out at Corker by taking a shot at the Tennessee Republican s height.  Because it s 2017 and we re witnessing a dysfunctional reality show.Image via screen capture.'"
      ],
      "execution_count": 0,
      "outputs": []
    },
    {
      "cell_type": "markdown",
      "metadata": {
        "id": "zF0s5eNsEJtw",
        "colab_type": "text"
      },
      "source": [
        "#Categories Model"
      ]
    },
    {
      "cell_type": "code",
      "metadata": {
        "id": "0SI6PUde9bNf",
        "colab_type": "code",
        "colab": {}
      },
      "source": [
        "def clean_str(string):\n",
        "  \n",
        "    string = re.sub(r\"\\'s\", \"\", string)\n",
        "    string = re.sub(r\"\\'ve\", \"\", string)\n",
        "    string = re.sub(r\"n\\'t\", \"\", string)\n",
        "    string = re.sub(r\"\\'re\", \"\", string)\n",
        "    string = re.sub(r\"\\'d\", \"\", string)\n",
        "    string = re.sub(r\"\\'ll\", \"\", string)\n",
        "    string = re.sub(r\",\", \"\", string)\n",
        "    string = re.sub(r\"!\", \" ! \", string)\n",
        "    string = re.sub(r\"\\(\", \"\", string)\n",
        "    string = re.sub(r\"\\)\", \"\", string)\n",
        "    string = re.sub(r\"\\?\", \"\", string)\n",
        "    string = re.sub(r\"'\", \"\", string)\n",
        "    string = re.sub(r\"[^A-Za-z0-9(),!?\\'\\`]\", \" \", string)\n",
        "    string = re.sub(r\"[0-9]\\w+|[0-9]\",\"\", string)\n",
        "    string = re.sub(r\"\\s{2,}\", \" \", string)\n",
        "    return string.strip().lower()"
      ],
      "execution_count": 0,
      "outputs": []
    },
    {
      "cell_type": "code",
      "metadata": {
        "id": "fQZp7VKr-hpj",
        "colab_type": "code",
        "colab": {}
      },
      "source": [
        "categ_model = pickle.load(open('drive/My Drive/PFA/categ_model.sav', 'rb'))\n",
        "categ_vect = pickle.load(open('drive/My Drive/PFA/categ_vect.sav', 'rb'))"
      ],
      "execution_count": 0,
      "outputs": []
    },
    {
      "cell_type": "code",
      "metadata": {
        "id": "iIiBmqyIsMdN",
        "colab_type": "code",
        "colab": {}
      },
      "source": [
        "def check_news_type(news_article):\n",
        "    news_article = [' '.join([Word(word).lemmatize() for word in clean_str(news_article).split()])]\n",
        "    features = categ_vect.transform(news_article)\n",
        "    return str(categ_model.predict(features)[0])"
      ],
      "execution_count": 0,
      "outputs": []
    },
    {
      "cell_type": "code",
      "metadata": {
        "id": "D2W1gMiA-B_H",
        "colab_type": "code",
        "outputId": "3c547b47-e520-4809-a832-99c836807df4",
        "colab": {
          "base_uri": "https://localhost:8080/",
          "height": 34
        }
      },
      "source": [
        "check_news_type(fake)"
      ],
      "execution_count": 0,
      "outputs": [
        {
          "output_type": "execute_result",
          "data": {
            "text/plain": [
              "'business'"
            ]
          },
          "metadata": {
            "tags": []
          },
          "execution_count": 30
        }
      ]
    },
    {
      "cell_type": "markdown",
      "metadata": {
        "id": "7sAvI7DeEYnP",
        "colab_type": "text"
      },
      "source": [
        "#Business Model\n",
        "\n"
      ]
    },
    {
      "cell_type": "code",
      "metadata": {
        "id": "lplJR3vmrzxC",
        "colab_type": "code",
        "colab": {}
      },
      "source": [
        "business_model = pickle.load(open('drive/My Drive/PFA/business_model.sav', 'rb'))\n",
        "business_vect = pickle.load(open('drive/My Drive/PFA/business_vect.sav', 'rb'))"
      ],
      "execution_count": 0,
      "outputs": []
    },
    {
      "cell_type": "code",
      "metadata": {
        "id": "TZgzesiusJ3o",
        "colab_type": "code",
        "colab": {}
      },
      "source": [
        "def check_news_business(new) :\n",
        "  if (business_model.predict(business_vect.transform([new]))[0] == 1) :\n",
        "    return \"real\"\n",
        "  else :\n",
        "    return \"fake\""
      ],
      "execution_count": 0,
      "outputs": []
    },
    {
      "cell_type": "code",
      "metadata": {
        "id": "QJt3UPD39a3u",
        "colab_type": "code",
        "outputId": "9b803bcd-48ca-4a76-8a0c-cd3ba9c51646",
        "colab": {
          "base_uri": "https://localhost:8080/",
          "height": 34
        }
      },
      "source": [
        "check_news_business(real)"
      ],
      "execution_count": 0,
      "outputs": [
        {
          "output_type": "execute_result",
          "data": {
            "text/plain": [
              "'real'"
            ]
          },
          "metadata": {
            "tags": []
          },
          "execution_count": 49
        }
      ]
    },
    {
      "cell_type": "code",
      "metadata": {
        "id": "fXQhfCb9F-wN",
        "colab_type": "code",
        "outputId": "54bbe746-8076-4163-cccb-225d4f1e6093",
        "colab": {
          "base_uri": "https://localhost:8080/",
          "height": 34
        }
      },
      "source": [
        "check_news_business(fake)"
      ],
      "execution_count": 0,
      "outputs": [
        {
          "output_type": "execute_result",
          "data": {
            "text/plain": [
              "'fake'"
            ]
          },
          "metadata": {
            "tags": []
          },
          "execution_count": 50
        }
      ]
    },
    {
      "cell_type": "markdown",
      "metadata": {
        "id": "0m-5eaZQF_Fm",
        "colab_type": "text"
      },
      "source": [
        "#Entertainment model"
      ]
    },
    {
      "cell_type": "code",
      "metadata": {
        "id": "gscrka6usDy0",
        "colab_type": "code",
        "colab": {}
      },
      "source": [
        "\n",
        "entertainment_model = pickle.load(open('drive/My Drive/PFA/entertainment_model.sav', 'rb'))\n",
        "entertainment_vect = pickle.load(open('drive/My Drive/PFA/entertainment_vect.sav', 'rb'))\n",
        "\n",
        "def check_news_entertainment(new) :\n",
        "  if (entertainment_model.predict(entertainment_vect.transform([new]))[0] == 1) :\n",
        "    return \"real\"\n",
        "  else :\n",
        "    return \"fake\""
      ],
      "execution_count": 0,
      "outputs": []
    },
    {
      "cell_type": "markdown",
      "metadata": {
        "id": "0zEHSThGHAaM",
        "colab_type": "text"
      },
      "source": [
        "#Politics model"
      ]
    },
    {
      "cell_type": "code",
      "metadata": {
        "id": "TRZnW4Gh9zpU",
        "colab_type": "code",
        "colab": {}
      },
      "source": [
        "politics_model = pickle.load(open('drive/My Drive/PFA/politics_model.sav', 'rb'))\n",
        "politics_vect = pickle.load(open('drive/My Drive/PFA/politics_vect.sav', 'rb'))\n",
        "\n",
        "def check_news_politics(new) :\n",
        "  if (politics_model.predict(politics_vect.transform([new]))[0] == 1) :\n",
        "    return \"real\"\n",
        "  else :\n",
        "    return \"fake\"\n"
      ],
      "execution_count": 0,
      "outputs": []
    },
    {
      "cell_type": "markdown",
      "metadata": {
        "id": "HhoNMcwBHsig",
        "colab_type": "text"
      },
      "source": [
        "#Tech Model"
      ]
    },
    {
      "cell_type": "code",
      "metadata": {
        "id": "MVprA-y_-FqU",
        "colab_type": "code",
        "colab": {}
      },
      "source": [
        "tech_model = pickle.load(open('drive/My Drive/PFA/tech_model.sav', 'rb'))\n",
        "tech_vect = pickle.load(open('drive/My Drive/PFA/tech_vect.sav', 'rb'))\n",
        "\n",
        "def check_news_tech(new) :\n",
        "  if (tech_model.predict(tech_vect.transform([new]))[0] == 1) :\n",
        "    return \"real\"\n",
        "  else :\n",
        "    return \"fake\"\n"
      ],
      "execution_count": 0,
      "outputs": []
    },
    {
      "cell_type": "markdown",
      "metadata": {
        "id": "9OuPhBTtIYFF",
        "colab_type": "text"
      },
      "source": [
        "#Sport model\n"
      ]
    },
    {
      "cell_type": "code",
      "metadata": {
        "id": "amy8K_mTIc_S",
        "colab_type": "code",
        "colab": {}
      },
      "source": [
        "sport_model = pickle.load(open('drive/My Drive/PFA/sport_model.sav', 'rb'))\n",
        "sport_vect = pickle.load(open('drive/My Drive/PFA/sport_vect.sav', 'rb'))\n",
        "\n",
        "def check_news_sport(new) :\n",
        "  if (sport_model.predict(sport_vect.transform([new]))[0] == 1) :\n",
        "    return \"real\"\n",
        "  else :\n",
        "    return \"fake\"\n"
      ],
      "execution_count": 0,
      "outputs": []
    },
    {
      "cell_type": "markdown",
      "metadata": {
        "id": "l2uMfQg0JQVW",
        "colab_type": "text"
      },
      "source": [
        "#Assemblage"
      ]
    },
    {
      "cell_type": "code",
      "metadata": {
        "id": "NBX29ZtTIo0H",
        "colab_type": "code",
        "colab": {}
      },
      "source": [
        "def check_news(new) :\n",
        "  type = check_news_type(new)\n",
        "  print (\"le type de l'article :\",type)\n",
        "\n",
        "  if type == 'business':\n",
        "    return check_news_business(new)\n",
        "  elif type == 'entertainment':\n",
        "   return check_news_entertainment(new)\n",
        "  elif type == 'politics':\n",
        "    return check_news_politics(new)\n",
        "  elif type == 'sport':\n",
        "    return check_news_sport(new)\n",
        "  elif type == 'tech':\n",
        "    return check_news_tech(new)\n",
        "  "
      ],
      "execution_count": 0,
      "outputs": []
    },
    {
      "cell_type": "code",
      "metadata": {
        "id": "6eYHORciPvs_",
        "colab_type": "code",
        "outputId": "82d2bca6-5a60-4710-d4d9-6ce5617984ee",
        "colab": {
          "base_uri": "https://localhost:8080/",
          "height": 52
        }
      },
      "source": [
        "check_news(fake)"
      ],
      "execution_count": 0,
      "outputs": [
        {
          "output_type": "stream",
          "text": [
            "le type de l'article : business\n"
          ],
          "name": "stdout"
        },
        {
          "output_type": "execute_result",
          "data": {
            "text/plain": [
              "'fake'"
            ]
          },
          "metadata": {
            "tags": []
          },
          "execution_count": 67
        }
      ]
    },
    {
      "cell_type": "code",
      "metadata": {
        "id": "J-qlQNUyP1Bd",
        "colab_type": "code",
        "colab": {}
      },
      "source": [
        ""
      ],
      "execution_count": 0,
      "outputs": []
    }
  ]
}